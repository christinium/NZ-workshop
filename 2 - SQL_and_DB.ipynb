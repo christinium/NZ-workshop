{
 "cells": [
  {
   "cell_type": "markdown",
   "metadata": {
    "colab_type": "text",
    "id": "view-in-github"
   },
   "source": [
    "<a href=\"https://colab.research.google.com/github/christinium/AIMed_Workshop_2018/blob/master/SQL_and_DB.ipynb\" target=\"_parent\"><img src=\"https://colab.research.google.com/assets/colab-badge.svg\" alt=\"Open In Colab\"/></a>"
   ]
  },
  {
   "cell_type": "markdown",
   "metadata": {
    "colab_type": "text",
    "id": "TuCbgWmRDmMI"
   },
   "source": [
    "# Introduction to Databases\n",
    "### Adapated from HST953 2017 Course\n",
    "## Objectives\n",
    "\n",
    "In this section we will address:\n",
    "\n",
    " - An understanding of relational databases\n",
    " - Understanding of CSV format\n",
    " - Familiarity with the MIMIC-III database\n",
    " - Ability to select data from a database using Structured Query Language (SQL)\n"
   ]
  },
  {
   "cell_type": "markdown",
   "metadata": {
    "colab_type": "text",
    "id": "HfUED9_SEyRZ"
   },
   "source": [
    "\n",
    "## Introduction to MIMIC-III\n",
    "\n",
    "MIMIC-III is an openly available dataset developed by the MIT Lab for Computational Physiology, comprising deidentified health data associated with ~60,000 hospital stays. Spanning 2001-2012, it includes demographics, vital signs, laboratory tests, medications, and more. A paper describing MIMIC-III is available from: http://www.nature.com/articles/sdata201635\n",
    "\n",
    "The dataset is provided as a collection of comma-separated value (CSV) files, which can be loaded into a database system such as PostgreSQL. A list of tables is provided on the MIMIC website: http://mimic.physionet.org/mimictables/admissions/\n",
    "\n",
    "We have highlighted some of the key tables below:\n",
    "\n",
    "- patients: a list of patients covered in MIMIC-III, each identified by a unique subject_id.\n",
    "- admissions: a list of hospital admissions, each identified by a unique hadm_id.\n",
    "- icustays: a list of ICU stays, each identified by a unique icustay_id.\n",
    "\n",
    "Querybuilder (https://mimic.physionet.org/gettingstarted/querybuilder/) allows you to explore MIMIC-III with simple queries. \n",
    "\n",
    "For detailed analysis, we recommend that you build MIMIC-III in a Postgres database on your local computer by following the instructions on the MIMIC website (https://mimic.physionet.org/tutorials/install-mimic-locally-ubuntu/).\n"
   ]
  },
  {
   "cell_type": "markdown",
   "metadata": {
    "colab_type": "text",
    "id": "MjGI3F_YFe3u"
   },
   "source": [
    "* Patient *\n",
    "* Admissions *\n",
    "* ICUstays *\n"
   ]
  },
  {
   "cell_type": "markdown",
   "metadata": {
    "colab_type": "text",
    "id": "esEsPO7Vbh2_"
   },
   "source": [
    "## Comma separated value (CSV) files\n",
    "\n",
    "Comma separated value (CSV) files are a plain text format used for storing data in a tabular, spreadsheet-style structure. While there is no hard and fast rule for structuring tabular data, it is usually considered good practice to include a header row, to list each variable in a separate column, and to list observations in rows.\n",
    "\n",
    "As there is no official standard for the CSV format, the term is used somewhat loosely, which can often cause issues when seeking to load the data into a data analysis package. A general recommendation is to follow the definition for CSVs set out by the Internet Engineering Task Force in the RFC 4180 specification document.\n",
    "\n",
    "<img src=\"https://stuff.mit.edu/~cwc76/colab/images_aimed_2018/csvformat.png\">\n",
    "\n",
    "Summarized briefly, RFC 4180 specifies that:\n",
    "\n",
    "- files may optionally begin with a header row, with each field separated by a comma;\n",
    "- records should be listed in subsequent rows. Fields should be separated by commas, and each row should be terminated with a line break;\n",
    "- fields that contain numbers may be optionally enclosed within double quotes;\n",
    "- fields that contain text (\"strings\") should be enclosed within double quotes;\n",
    "- if a double quote appears inside a string of text then it must be escaped with a preceding double quote.\n",
    "\n",
    "The CSV format is popular largely because of its simplicity and versatility. CSV files can be edited with a text editor, loaded as a spreadsheet in packages such as Microsoft Excel, and imported and processed by most data analysis packages. Often CSV files are an intermediate data format used to hold data that has been extracted from a relational database in preparation for analysis. "
   ]
  },
  {
   "cell_type": "markdown",
   "metadata": {
    "colab_type": "text",
    "id": "kIQiG8kWFtTN"
   },
   "source": [
    "## Relational Databases\n",
    "Relational databases can be thought of as a collection of tables which are linked together by **shared keys**. Organizing data across tables can help to maintain data integrity and enable faster analysis and more efficient storage.\n",
    "\n",
    "### Motivation: why would we want a relational database?\n",
    "\n",
    "Imagine trying to store data about a person: their name, age, and height. We can easily save this data in a CSV:\n",
    "\n",
    "```\n",
    "\"Name\", \"Age\", \"Height\"\n",
    "\"Penny\", 30, 182\n",
    "```\n",
    "\n",
    "Now what if we measure Penny and Paul's heart rate every hour for four hours at 8:00am, 9:00am, 10:00am, and 11:00am. How should we store this data? The naive approach would be to simply concatenate the information we have all in one file:\n",
    "\n",
    "```\n",
    "\"Name\", \"Age\", \"Height\", \"Time\", \"Heart rate\"\n",
    "\"Penny\", 30, 182, \"8:00\", 65\n",
    "\"Penny\", 30, 182, \"9:00\", 71\n",
    "\"Penny\", 30, 182, \"10:00\", 72\n",
    "\"Paul\", \"31\", \"185\", \"8:00\", 88\n",
    "\"Paul\", \"31\", \"185\", \"9:00\", 85\n",
    "\"Paul\", \"31\", \"185\", \"10:00\", 80\n",
    "```\n",
    "\n",
    "This works, but it feels very inefficient. We have repeated her name (\"Penny\"), her age (30), and her height (182) every time we get a heart rate measurement.\n",
    "\n",
    "The immediate solution is to not store both of these in the same file: we make one file for demographics (age, height), and we make another file for heart rate measurements. For fun we will add in a unique ID number in case there are two people with the same name.Then, we make sure that the ID is same in both, so that we know who has which heart rates.\n",
    "\n",
    "\n",
    "**Table Demographics**\n",
    "```\n",
    "\"ID\", Name\", \"Age\", \"Height\"\n",
    "1, \"Penny\", 30, 182\n",
    "2, \"Paul\", \"31\", \"185\"\n",
    "```\n",
    "**Table Heart Rate**\n",
    "```\n",
    "\"ID\", \"Time\", \"Heart rate\"\n",
    "1, \"8:00\", 65\n",
    "1, \"9:00\", 71\n",
    "1, \"10:00\", 72\n",
    "2, \"8:00\", 88\n",
    "2, \"9:00\", 85\n",
    "2, \"10:00\", 80\n",
    "```\n",
    "\n",
    "We've created a relational database. Since the ID is what links the two tables together, we would call the name column a \"key\"."
   ]
  },
  {
   "cell_type": "markdown",
   "metadata": {
    "colab_type": "text",
    "id": "ccBNA1iOcVua"
   },
   "source": [
    "## Terminology\n",
    "\n",
    "- **\"Database schema\":** The model that defines the structure and relationships of the tables.\n",
    "- **\"Database query\":** Data is extracted from relational databases using structured \"queries\".\n",
    "- **\"Primary key\":** A primary key is a field that uniquely identifies each row in a table.\n",
    "- **\"Foreign key\"**: A foreign key is a field that refers to a primary key in another table.\n",
    "- **\"Normalisation\":** The concept of structuring a database in a way that reduces data repetition and improves data integrity, usually by requiring one or more tables to be joined.\n",
    "- **\"Denormalisation\":** The concept of structuring a database to improve readability, sometimes at the expense of data repetition and data integrity.\n",
    "-**\"Data type\":** A term used to describe the behaviour of data and the possible values that it can hold (for example, integer, text, and date are all data types in PostgreSQL).\n",
    "\n",
    "Giving a simple example of a hospital database with four tables, it might comprise of:\n",
    "\n",
    "- Table 1: **patients**, a list of all patients;\n",
    "- Table 2, **admissions**, a list of all hospital admissions;\n",
    "- Table 3, **chartevents**, a list of vital sign measurements;\n",
    "- Table 4, **d_items**, a dictionary of vital sign codes and associated labels.\n",
    "\n",
    "\n",
    "<img src=\"https://stuff.mit.edu/~cwc76/colab/images_aimed_2018/relationaldb.png\">\n"
   ]
  },
  {
   "cell_type": "markdown",
   "metadata": {
    "colab_type": "text",
    "id": "toZ3tPBjfZzz"
   },
   "source": [
    "## What is SQL\n",
    "\n",
    "Structured Query Language (SQL) is a programming language used to manage relational databases. An SQL query has the following format:\n",
    "\n",
    "```\n",
    "SELECT [columns]\n",
    "FROM [database_name].[table_name];\n",
    "```\n",
    "\n",
    "The result of a query is generally a list of rows selected from your table/s of interest. For example, the following query lists the unique patient identifiers (subject_ids) and gender of everyone in the patients table:\n",
    "\n",
    "```\n",
    "SELECT subject_id, gender\n",
    "FROM mimiciii.patients;\n",
    "```\n",
    "\n",
    "The asterisk (*) character is a wildcard that can be used to select all columns.\n",
    "\n",
    "```\n",
    "SELECT *\n",
    "FROM mimiciii.patients;\n",
    "```\n",
    "\n",
    "Note, in PostgreSQL we can avoid specifying the database name in our queries by setting the search path:\n",
    "\n",
    "```\n",
    "SET SEARCH_PATH TO mimiciii;\n",
    "```"
   ]
  },
  {
   "cell_type": "markdown",
   "metadata": {
    "colab_type": "text",
    "id": "Q8WZeBiSf2_g"
   },
   "source": [
    "**Questions:**\n",
    "1) Write SQL that selects all the data from the patients table\n",
    "2) Write SQL that only selects the subject_id, dob, and gender columns from the patients table\n"
   ]
  },
  {
   "cell_type": "markdown",
   "metadata": {
    "colab_type": "text",
    "id": "x9-4ZTsfgIuN"
   },
   "source": [
    "## SQL:WHERE keyword\n",
    "Often you will want to select a subset of the data which satisfy some set of conditions. For example, you may want to select only female subjects from the database. This is easily accomplished with the WHERE keyword. The framework of our query becomes:\n",
    "```\n",
    "SELECT [columns]\n",
    "FROM [table_name]\n",
    "WHERE [conditions];\n",
    "```\n",
    "We can easily select all the subject_id corresponding to female subjects as follows:\n",
    "\n",
    "```\n",
    "SELECT subject_id\n",
    "FROM patients\n",
    "WHERE gender = 'F';\n",
    "```\n",
    "\n",
    "WHERE clauses are used to make a query return rows meeting only our specified criteria (our previous query, for example, returning only female patients). The simplest criteria is equality, WHERE gender = 'F'. Note that in this situation we specify a string, but this syntax will work for numbers as well. For example, we could select all the data for a single subject:\n",
    "\n",
    "```\n",
    "SELECT *\n",
    "FROM patients\n",
    "WHERE subject_id = 252;\n",
    "```\n",
    "\n",
    "WHERE clauses can be combined with standard logical operators AND/OR:\n",
    "\n",
    "```\n",
    "SELECT *\n",
    "FROM patients\n",
    "WHERE subject_id = 253\n",
    "OR subject_id = 254\n",
    "OR subject_id = 255;\n",
    "```\n",
    "\n",
    "A useful shorthand for OR statements on the same column is the IN condition:\n",
    "\n",
    "```\n",
    "SELECT *\n",
    "FROM patients\n",
    "WHERE subject_id IN (253, 254, 255);\n",
    "```\n",
    "\n",
    "We can also use the \"less than\" (<), \"less than or equal to\" <=, \"greater than\" (>), or \"greater than or equal to\" >= operators:\n",
    "\n",
    "```\n",
    "SELECT *\n",
    "FROM patients\n",
    "WHERE subject_id >= 253\n",
    "AND subject_id <= 255;\n",
    "```\n",
    "\n",
    "SQL also offers shorthand for >= and <= combinations with the BETWEEN condition:\n",
    "\n",
    "```\n",
    "SELECT *\n",
    "FROM patients\n",
    "WHERE subject_id BETWEEN 253 AND 255;\n",
    "```\n",
    "\n",
    "Note the BETWEEN operator is inclusive. Verify for yourself that the above two queries give the same result. When working with text data, we'll often want to search for partial string matches rather than exact matches. This can be accomplished with the LIKE keyword:\n",
    "\n",
    "- use `LIKE` to match text\n",
    "- The % is a wildcard that will match all characters\n",
    "\n",
    "```\n",
    "SELECT *\n",
    "FROM microbiologyevents as micro\n",
    "WHERE org_name like '%STREP%';\n",
    "```\n",
    "\n",
    "Note the use of the wildcard character %."
   ]
  },
  {
   "cell_type": "markdown",
   "metadata": {
    "colab_type": "text",
    "id": "hJZqaKDHguL0"
   },
   "source": [
    "## ORDER BY keyword\n",
    "\n",
    "The ORDER BY keyword is relatively straightforward: it will sort the data in the order you specify.\n",
    "\n",
    "```\n",
    "SELECT [columns]\n",
    "FROM [table_name]\n",
    "WHERE [conditions]\n",
    "ORDER BY [columns] [ASC/DESC];\n",
    "```\n",
    "\n",
    "The query below orders the results by the patient dob\n",
    "\n",
    "```\n",
    "SELECT subject_id, dob\n",
    "FROM patients\n",
    "ORDER BY dob;\n",
    "```\n",
    "\n",
    "Note that the WHERE clause is optional and in the query above it has been omitted. However, we must respect the order of the keywords. If we use the WHERE keyword it must appear after the FROM keyword and before the ORDER BY keyword."
   ]
  },
  {
   "cell_type": "markdown",
   "metadata": {
    "colab_type": "text",
    "id": "4hyCEddeg4I-"
   },
   "source": [
    "## Using SQL JOIN to query multiple tables\n",
    "Often we need information coming from multiple tables. This can be achieved using the SQL JOIN keyword. There are several types of join, including INNER JOIN, LEFT JOIN, and RIGHT JOIN. It is important to understand the difference between these joins because their usage can significantly impact query results. Detailed guidance on joins is widely available on the web.\n",
    "\n",
    "<img src=\"https://stuff.mit.edu/~cwc76/colab/images_aimed_2018/sql-joins.png\">\n",
    "\n",
    "Using the INNER JOIN keyword, let’s select a list of patients from the patients table along with dates of birth, and join to the admissions table to get the admission time for each hospital admission. We use the INNER JOIN to indicate that two or more tables should be combined based on a common attribute, which in our case is subject_id:\n",
    "\n",
    "```\n",
    "-- INNER JOIN will only return rows where subject_id\n",
    "-- appears in both the patients table and the admissions table\n",
    "SELECT p.subject_id, p.dob, a.hadm_id, a.admittime\n",
    "FROM patients p\n",
    "INNER JOIN admissions a\n",
    "ON p.subject_id = a.subject_id\n",
    "ORDER BY subject_id, hadm_id;\n",
    "```"
   ]
  },
  {
   "cell_type": "markdown",
   "metadata": {
    "colab_type": "text",
    "id": "vnb93PPAcVr4"
   },
   "source": [
    "## Additional Information\n",
    "\n",
    "Shared code for MIMIC-III (and eICU) can be found on github:\n",
    "\n",
    "https://github.com/MIT-LCP/mimic-code\n",
    "\n",
    "https://github.com/MIT-LCP/eicu-code\n"
   ]
  },
  {
   "cell_type": "code",
   "execution_count": 0,
   "metadata": {
    "colab": {},
    "colab_type": "code",
    "id": "A82M0uWUDlrC"
   },
   "outputs": [],
   "source": []
  }
 ],
 "metadata": {
  "colab": {
   "collapsed_sections": [],
   "include_colab_link": true,
   "name": "SQL and DB.ipynb",
   "provenance": [],
   "version": "0.3.2"
  },
  "kernelspec": {
   "display_name": "Python 3",
   "language": "python",
   "name": "python3"
  },
  "language_info": {
   "codemirror_mode": {
    "name": "ipython",
    "version": 3
   },
   "file_extension": ".py",
   "mimetype": "text/x-python",
   "name": "python",
   "nbconvert_exporter": "python",
   "pygments_lexer": "ipython3",
   "version": "3.7.1"
  }
 },
 "nbformat": 4,
 "nbformat_minor": 1
}
