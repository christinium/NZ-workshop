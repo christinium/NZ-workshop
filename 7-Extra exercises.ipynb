{
  "nbformat": 4,
  "nbformat_minor": 0,
  "metadata": {
    "colab": {
      "name": "7 - Extra exercises.ipynb",
      "version": "0.3.2",
      "provenance": [],
      "include_colab_link": true
    },
    "kernelspec": {
      "name": "python3",
      "display_name": "Python 3"
    }
  },
  "cells": [
    {
      "cell_type": "markdown",
      "metadata": {
        "id": "view-in-github",
        "colab_type": "text"
      },
      "source": [
        "<a href=\"https://colab.research.google.com/github/christinium/NZ-workshop/blob/master/7-Extra%20exercises.ipynb\" target=\"_parent\"><img src=\"https://colab.research.google.com/assets/colab-badge.svg\" alt=\"Open In Colab\"/></a>"
      ]
    },
    {
      "metadata": {
        "id": "AJvMD6PxFbsI",
        "colab_type": "text"
      },
      "cell_type": "markdown",
      "source": [
        "#7 - Extra exercises! \n",
        "If you are speedy and you are looking for additional tasks, here you go!"
      ]
    },
    {
      "metadata": {
        "id": "fz4-myEKFaE_",
        "colab_type": "code",
        "colab": {}
      },
      "cell_type": "code",
      "source": [
        "## Using table CT\n",
        "## IV contrast in CT scans is important for seeing certain things (like malignancies, inflammation), however, it can be toxic to the kidney. \n",
        "## In either SQL (BigQuery) or Python (block below), pull out the amount of contrast (If any) given during CT scans."
      ],
      "execution_count": 0,
      "outputs": []
    },
    {
      "metadata": {
        "id": "4tCFukHKFa-h",
        "colab_type": "code",
        "colab": {}
      },
      "cell_type": "code",
      "source": [
        "## Using table respiratory\n",
        "## Pull out the day of intubation as well as the change in respiratory sounds each day"
      ],
      "execution_count": 0,
      "outputs": []
    },
    {
      "metadata": {
        "id": "x0qDjQPavHd4",
        "colab_type": "code",
        "colab": {}
      },
      "cell_type": "code",
      "source": [
        "## Similar to the obesity challenge - you can do an \"appendicitis challenge\" where the appendicitis key table contains the cold standard:\n",
        "## 0:  no appendicitis\n",
        "## 1:  appendicitis\n",
        "## -1: unclear if there is appendicitis"
      ],
      "execution_count": 0,
      "outputs": []
    }
  ]
}