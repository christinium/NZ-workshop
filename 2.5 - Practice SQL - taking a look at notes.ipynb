{
  "nbformat": 4,
  "nbformat_minor": 0,
  "metadata": {
    "colab": {
      "name": "2.5 - Practice SQL - taking a look at notes.ipynb",
      "version": "0.3.2",
      "provenance": [],
      "collapsed_sections": [],
      "include_colab_link": true
    },
    "kernelspec": {
      "name": "python3",
      "display_name": "Python 3"
    }
  },
  "cells": [
    {
      "cell_type": "markdown",
      "metadata": {
        "id": "view-in-github",
        "colab_type": "text"
      },
      "source": [
        "<a href=\"https://colab.research.google.com/github/christinium/NZ-workshop/blob/master/2.5%20-%20Practice%20SQL%20-%20taking%20a%20look%20at%20notes.ipynb\" target=\"_parent\"><img src=\"https://colab.research.google.com/assets/colab-badge.svg\" alt=\"Open In Colab\"/></a>"
      ]
    },
    {
      "metadata": {
        "id": "Ga3FKwzF-x7y",
        "colab_type": "text"
      },
      "cell_type": "markdown",
      "source": [
        "# 2.5 - Practice SQL - taking a look at notes\n",
        "In this section, we will take a look and become familiar with the different types of clinical notes in the nlp_demo database.  It will give us a chance to practice SQL as well.\n",
        "\n",
        "[https://bigquery.cloud.google.com/jobs/new-zealand-2018-datathon](https://bigquery.cloud.google.com/jobs/new-zealand-2018-datathon)\n",
        "\n",
        "Please select **\"Try the new UI\"** on the upper right hand side of the page.\n",
        "\n",
        "<img src=\"http://yumch.com/nz/image/bigquery.jpg\">"
      ]
    },
    {
      "metadata": {
        "id": "yrpTncJ6rbh-",
        "colab_type": "text"
      },
      "cell_type": "markdown",
      "source": [
        "**Practice querying Notes in BigQuery**\n",
        "<br>\n",
        "*Tables To Investigate*\n",
        "* ct\n",
        "* discharge\n",
        "* echos\n",
        "* nursing\n",
        "* patients\n",
        "* radiology\n",
        "* respiratory\n",
        "\n",
        "<br>\n",
        "**Example searches**<br>\n",
        "```SQL\n",
        "SELECT *\n",
        "FROM nlp_demo.patients\n",
        "```\n",
        "That command selects all of the columns from the table patients in database nlp_demo.\n",
        "\n",
        "You can replace patients with another table to print that.\n",
        "\n",
        "```\n",
        "SELECT *\n",
        "FROM nlp_demo.echos\n",
        "```\n",
        "\n",
        "Of note, you can be cleaner and select which columns you want to print:\n",
        "\n",
        "```\n",
        "SELECT row_id, subject_id, hadm_id, chartdate, category, text\n",
        "FROM nlp_demo.echos\n",
        "```\n",
        "\n"
      ]
    },
    {
      "metadata": {
        "id": "JUwfYLtfu2eK",
        "colab_type": "text"
      },
      "cell_type": "markdown",
      "source": [
        "**Using Python to run SQL Commands**<br>\n",
        "The following section will use python to print out a random note in a table to make it easier to read.\n",
        "<br>\n",
        "Please look through notes in each of the tables described above."
      ]
    },
    {
      "metadata": {
        "id": "fznQH0iu-xB7",
        "colab_type": "code",
        "colab": {}
      },
      "cell_type": "code",
      "source": [
        "\n",
        "# Load python libraries we are going to need \n",
        "import pandas as pd\n",
        "import numpy as np\n",
        "import random\n",
        "from IPython.core.display import display, HTML\n",
        "\n",
        "\n",
        "from google.colab import auth\n",
        "from google.cloud import bigquery\n",
        "from google.colab import files\n",
        "import os"
      ],
      "execution_count": 0,
      "outputs": []
    },
    {
      "metadata": {
        "id": "uRuE70kRvRcm",
        "colab_type": "code",
        "colab": {}
      },
      "cell_type": "code",
      "source": [
        "\n",
        "auth.authenticate_user() # authenticating - connecting to google, copy the text in the open window and paste in the box that will appear below"
      ],
      "execution_count": 0,
      "outputs": []
    },
    {
      "metadata": {
        "id": "IhTIYiBsvTko",
        "colab_type": "code",
        "colab": {}
      },
      "cell_type": "code",
      "source": [
        "#This is how you connect to our project. \n",
        "project_id='new-zealand-2018-datathon'\n",
        "os.environ[\"GOOGLE_CLOUD_PROJECT\"]=project_id\n",
        "# Read data from BigQuery into pandas dataframes.\n",
        "def run_query(query):\n",
        "  return pd.io.gbq.read_gbq(query, project_id=project_id, verbose=False, configuration={'query':{'useLegacySql': False}})"
      ],
      "execution_count": 0,
      "outputs": []
    },
    {
      "metadata": {
        "id": "_zd7tOj3vVdh",
        "colab_type": "code",
        "colab": {}
      },
      "cell_type": "code",
      "source": [
        "\n",
        "# Now run the SQK query\n",
        "notes = run_query('''\n",
        "SELECT *\n",
        "FROM `nlp_demo.discharge`\n",
        "''')"
      ],
      "execution_count": 0,
      "outputs": []
    },
    {
      "metadata": {
        "id": "-QBgVCtVvo7s",
        "colab_type": "code",
        "colab": {}
      },
      "cell_type": "code",
      "source": [
        "#printing a random note\n",
        "display_id = random.choice(notes['row_id'])\n",
        "text = notes[notes['row_id'] == display_id].iloc[0]['text']\n",
        "print(text)\n",
        "#for term in terms:\n",
        "#    text = text.replace(term, \"<font color=\\\"red\\\">\" + term + \"</font>\")\n",
        "#display(HTML(\"<pre>\" + text + \"</pre>\"))"
      ],
      "execution_count": 0,
      "outputs": []
    }
  ]
}