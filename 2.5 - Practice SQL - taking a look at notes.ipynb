{
  "nbformat": 4,
  "nbformat_minor": 0,
  "metadata": {
    "colab": {
      "name": "2.5 - Practice SQL - taking a look at notes.ipynb",
      "version": "0.3.2",
      "provenance": [],
      "collapsed_sections": [],
      "include_colab_link": true
    },
    "kernelspec": {
      "name": "python3",
      "display_name": "Python 3"
    }
  },
  "cells": [
    {
      "cell_type": "markdown",
      "metadata": {
        "id": "view-in-github",
        "colab_type": "text"
      },
      "source": [
        "<a href=\"https://colab.research.google.com/github/christinium/NZ-workshop/blob/master/2.5%20-%20Practice%20SQL%20-%20taking%20a%20look%20at%20notes.ipynb\" target=\"_parent\"><img src=\"https://colab.research.google.com/assets/colab-badge.svg\" alt=\"Open In Colab\"/></a>"
      ]
    },
    {
      "metadata": {
        "id": "Ga3FKwzF-x7y",
        "colab_type": "text"
      },
      "cell_type": "markdown",
      "source": [
        "# 2.5 - Practice SQL - taking a look at notes\n",
        "In this section, we will take a look and become familiar with the different types of clinical notes in the nlp_demo database.  It will give us a chance to practice SQL as well.\n",
        "\n",
        "[https://bigquery.cloud.google.com/jobs/new-zealand-2018-datathon](https://bigquery.cloud.google.com/jobs/new-zealand-2018-datathon)\n",
        "\n",
        "Please select **\"Try the new UI\"** on the upper right hand side of the page.\n",
        "\n",
        "<img src=\"http://yumch.com/nz/image/bigquery.jpg\">"
      ]
    },
    {
      "metadata": {
        "id": "yrpTncJ6rbh-",
        "colab_type": "text"
      },
      "cell_type": "markdown",
      "source": [
        "**Practice querying Notes in BigQuery**\n",
        "<br>\n",
        "*Tables To Investigate*\n",
        "* ct\n",
        "* discharge\n",
        "* echos\n",
        "* nursing\n",
        "* patients\n",
        "* radiology\n",
        "* respiratory\n",
        "\n",
        "<br>\n",
        "**Example searches**<br>\n",
        "```SQL\n",
        "SELECT *\n",
        "FROM nlp_demo.patients\n",
        "```\n",
        "That command selects all of the columns from the table patients in database nlp_demo.\n",
        "\n",
        "You can replace patients with another table to print that.\n",
        "\n",
        "```\n",
        "SELECT *\n",
        "FROM nlp_demo.echos\n",
        "```\n",
        "\n",
        "Of note, you can be cleaner and select which columns you want to print:\n",
        "\n",
        "```\n",
        "SELECT row_id, subject_id, hadm_id, chartdate, category, text\n",
        "FROM nlp_demo.echos\n",
        "```\n",
        "\n"
      ]
    },
    {
      "metadata": {
        "id": "JUwfYLtfu2eK",
        "colab_type": "text"
      },
      "cell_type": "markdown",
      "source": [
        "**Using Python to run SQL Commands**<br>\n",
        "The following section will use python to print out a random note in a table to make it easier to read.\n",
        "<br>\n",
        "Please look through notes in each of the tables described above."
      ]
    },
    {
      "metadata": {
        "id": "fznQH0iu-xB7",
        "colab_type": "code",
        "colab": {}
      },
      "cell_type": "code",
      "source": [
        "\n",
        "# Load python libraries we are going to need \n",
        "import pandas as pd\n",
        "import numpy as np\n",
        "import random\n",
        "from IPython.core.display import display, HTML\n",
        "\n",
        "\n",
        "from google.colab import auth\n",
        "from google.cloud import bigquery\n",
        "from google.colab import files\n",
        "import os"
      ],
      "execution_count": 0,
      "outputs": []
    },
    {
      "metadata": {
        "id": "uRuE70kRvRcm",
        "colab_type": "code",
        "colab": {}
      },
      "cell_type": "code",
      "source": [
        "\n",
        "auth.authenticate_user() # authenticating - connecting to google, copy the text in the open window and paste in the box that will appear below"
      ],
      "execution_count": 0,
      "outputs": []
    },
    {
      "metadata": {
        "id": "IhTIYiBsvTko",
        "colab_type": "code",
        "colab": {}
      },
      "cell_type": "code",
      "source": [
        "#This is how you connect to our project. \n",
        "project_id='new-zealand-2018-datathon'\n",
        "os.environ[\"GOOGLE_CLOUD_PROJECT\"]=project_id\n",
        "# Read data from BigQuery into pandas dataframes.\n",
        "def run_query(query):\n",
        "  return pd.io.gbq.read_gbq(query, project_id=project_id, verbose=False, configuration={'query':{'useLegacySql': False}})"
      ],
      "execution_count": 0,
      "outputs": []
    },
    {
      "metadata": {
        "id": "_zd7tOj3vVdh",
        "colab_type": "code",
        "colab": {}
      },
      "cell_type": "code",
      "source": [
        "\n",
        "# Now run the SQK query\n",
        "notes = run_query('''\n",
        "SELECT *\n",
        "FROM `nlp_demo.discharge`\n",
        "''')"
      ],
      "execution_count": 0,
      "outputs": []
    },
    {
      "metadata": {
        "id": "-QBgVCtVvo7s",
        "colab_type": "code",
        "colab": {
          "base_uri": "https://localhost:8080/",
          "height": 2609
        },
        "outputId": "2e868afb-2540-4754-e7eb-d36cdc136016"
      },
      "cell_type": "code",
      "source": [
        "#printing a random note\n",
        "display_id = random.choice(notes['row_id'])\n",
        "text = notes[notes['row_id'] == display_id].iloc[0]['text']\n",
        "print(text)\n",
        "#for term in terms:\n",
        "#    text = text.replace(term, \"<font color=\\\"red\\\">\" + term + \"</font>\")\n",
        "#display(HTML(\"<pre>\" + text + \"</pre>\"))"
      ],
      "execution_count": 15,
      "outputs": [
        {
          "output_type": "stream",
          "text": [
            "Admission Date:  [**2130-2-3**]              Discharge Date:   [**2130-2-9**]\n",
            "\n",
            "Date of Birth:  [**2060-12-25**]             Sex:   M\n",
            "\n",
            "Service: SURGERY\n",
            "\n",
            "Allergies:\n",
            "Penicillins\n",
            "\n",
            "Attending:[**First Name3 (LF) 371**]\n",
            "Chief Complaint:\n",
            "Bright red blood per rectum\n",
            "\n",
            "Major Surgical or Invasive Procedure:\n",
            "None\n",
            "\n",
            "\n",
            "History of Present Illness:\n",
            "69 yo M presents 8 days s/p anal seton placement with a 24 hour\n",
            "history of bright red blood per rectum soaking his clothes. He\n",
            "turned the toilet water dark red approximately 15 times.\n",
            "Multiple large clots seen. He complains of associated dizziness\n",
            "and had hypotension in the ED. Denies fevers, chills, N/V, or\n",
            "change in appetite.\n",
            "\n",
            "Past Medical History:\n",
            "1. Crohn's dz, found in [**2125**] on colonoscopy for anal fissure,\n",
            "positive [**Doctor First Name **], been treated with Remicade\n",
            "2. Rheumatoid arthritis\n",
            "3. HTN\n",
            "4. hx of renal calculus\n",
            "5. s/p appendectomy\n",
            "6. s/p TURP\n",
            "7. s/p cholecystectomy\n",
            "8. Recent pulmonary embolism- on coumadin since [**2-12**]\n",
            "9. LVH, LV enlargement, apical LV aneurysm with LV thrombus, EF\n",
            "25%\n",
            "10. Chronic left knee pain s/p meniscectomy, synovectomy, and\n",
            "debridement of left knee [**2123**]\n",
            "11. Recent gallstone pancreatitis [**2-12**]\n",
            "12. Afib - [**2-12**] rate controlled on atenolol\n",
            "\n",
            "\n",
            "Social History:\n",
            "Married for 46 years and lives with wife.  3 children who all\n",
            "live in area.  No tobocco, h/o occasional ETOH, stopped drinking\n",
            "in [**11-13**], denies h/o ETOH abuse.  No illicit drugs.\n",
            "\n",
            "\n",
            "Family History:\n",
            "Father died at 62 from MI\n",
            "Mother died at 52 of cirrhosis\n",
            "No cancer or diabetes to patient's knowledge\n",
            "No hisotry of clotting disorders\n",
            "\n",
            "Physical Exam:\n",
            "At time of discharge:\n",
            "\n",
            "A&O X 3, NAD\n",
            "RRR\n",
            "CTAB\n",
            "Abd soft, NT/ND, +bs, no masses\n",
            "Ext with 2+ pitting edema b/l\n",
            "Strings from seton in place from rectum\n",
            "\n",
            "Pertinent Results:\n",
            "[**2130-2-3**] 07:00 WBC-11.2* RBC-3.30* Hgb-9.2* Hct-28.2* MCV-85\n",
            "MCH-27.7 MCHC-32.5 RDW-15.9* Plt Ct-571*\n",
            "[**2130-2-3**] 11:03AM Hct-22.4*\n",
            "PT-107.3* PTT-40.8* INR(PT)-15.1*\n",
            "[**2130-2-3**] PT-22.2* PTT-30.9 INR(PT)-2.2* Fibrino-412*#\n",
            "Glucose-108* UreaN-19 Creat-1.4* Na-139 K-3.9 Cl-106 HCO3-23\n",
            "AnGap-14\n",
            "CK-MB-NotDone cTropnT-0.03*\n",
            "CK-MB-2 cTropnT-0.03*\n",
            "Phos-2.9 Mg-1.0*\n",
            "03/02/06PT-15.3* PTT-30.2 INR(PT)-1.4* BLOOD Hct-28.7*\n",
            "\n",
            "Brief Hospital Course:\n",
            "On [**2130-2-3**] Mr. [**Known lastname 2302**] was admitted to the surgery service\n",
            "under the care of Dr. [**Last Name (STitle) **] with the diagnosis of a lower GI\n",
            "bleed. His initial Hct was 28 and initial INR was 15. He was\n",
            "admitted to the ICU and resuscitated. He was transfused 2 units\n",
            "of PRBCs for a Hct of 22, and 2 units of FFP to reverse his\n",
            "anticoagulation. He was also given Vitamin K. The following day\n",
            "he was transfused 4 more units of PRBCs. The GI service was\n",
            "consulted and 2 attempts were made to do a colonoscopy. Both\n",
            "attempts were aborted due to a poor preparation. After 3 days in\n",
            "the ICU, Mr. [**Known lastname 2303**] Hct was stable at 26-27. He was\n",
            "transferred to the floor and given 1 more unit of PRBCs for\n",
            "borderline urine output. His Hct then stabilized at 28-29. Since\n",
            "he had no more episodes of bloody bowel movements, it was felt\n",
            "that there was no need to make further attempts at colonoscopy.\n",
            "His diet was then slowly advanced, physical therapy evaluated\n",
            "the patient, and he was discharged to rehab on HD 7. He will\n",
            "follow-up with Dr. [**Last Name (STitle) 1940**] from GI as well as his PCP regarding\n",
            "his coumadin dose and INR checks. At the time of discharge he\n",
            "was placed on coumadin 1mg Qhs (h/o PE and cardiac thrombus) and\n",
            "his INR was 1.4. His Hct was 28.7.\n",
            "\n",
            "Medications on Admission:\n",
            "Protonix, Lisinopril, Atenolol, Hydroxychloroquine, Lasix,\n",
            "Percocet, colace, lidocaine ointment, Coumadin\n",
            "\n",
            "Discharge Medications:\n",
            "1. Protonix 40 mg Tablet, Delayed Release (E.C.) Sig: One (1)\n",
            "Tablet, Delayed Release (E.C.) PO once a day.\n",
            "2. Lisinopril 10 mg Tablet Sig: One (1) Tablet PO once a day.\n",
            "3. Atenolol 50 mg Tablet Sig: One (1) Tablet PO once a day.\n",
            "4. Lasix 40 mg Tablet Sig: One (1) Tablet PO once a day.\n",
            "5. Coumadin 1 mg Tablet Sig: One (1) Tablet PO at bedtime:\n",
            "Follow INR with PCP.\n",
            "[**Name Initial (NameIs) **]:*30 Tablet(s)* Refills:*2*\n",
            "6. Percocet 5-325 mg Tablet Sig: 1-2 Tablets PO every 4-6 hours.\n",
            "[**Name Initial (NameIs) **]:*20 Tablet(s)* Refills:*0*\n",
            "7. Colace 100 mg Capsule Sig: One (1) Capsule PO twice a day.\n",
            "8. Hydroxychloroquine 200 mg Tablet Sig: One (1) Tablet PO once\n",
            "a day.\n",
            "\n",
            "\n",
            "Discharge Disposition:\n",
            "Extended Care\n",
            "\n",
            "Facility:\n",
            "[**Hospital3 1186**] - [**Location (un) 538**]\n",
            "\n",
            "Discharge Diagnosis:\n",
            "Lower GI bleed\n",
            "\n",
            "\n",
            "Discharge Condition:\n",
            "Good\n",
            "\n",
            "\n",
            "Discharge Instructions:\n",
            "Please call your doctor or go to the ER if you experience any of\n",
            "the following: high fevers, severe pain, increasing\n",
            "nausea/emesis, dizziness, or increasing amount of blood in your\n",
            "stool. Please resume all prehospital medications and take all\n",
            "new ones as prescribed. Follow-up with your PCP regarding your\n",
            "coumadin levels.\n",
            "\n",
            "Followup Instructions:\n",
            "1. Dr. [**Last Name (STitle) 1940**] (GI) - please call for appointment [**Telephone/Fax (1) 1983**]\n",
            "2. [**Name6 (MD) **] [**Name8 (MD) **], MD Phone:[**Telephone/Fax (1) 250**] Date/Time: [**2130-3-8**] 10:10\n",
            "PCP [**Name Initial (PRE) **] [**Name10 (NameIs) **] call results of INR to your primary care physician\n",
            "\n",
            "\n",
            "\n",
            "\n"
          ],
          "name": "stdout"
        }
      ]
    }
  ]
}