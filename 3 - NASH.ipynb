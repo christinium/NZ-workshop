{
 "cells": [
  {
   "cell_type": "markdown",
   "metadata": {
    "colab_type": "text",
    "id": "SM8f3IVBmUfr"
   },
   "source": [
    "# Part A - Finding the NASH\n",
    "\n",
    "Natural Language Processing (NLP) doesn't have to be hard! For many tasks simply finding a bunch of notes that are helpful is enough. In this example we have a nice term (NASH) that is fairly unambiguous. We just want to find patients who may have NASH for some further study."
   ]
  },
  {
   "cell_type": "code",
   "execution_count": null,
   "metadata": {
    "colab": {},
    "colab_type": "code",
    "id": "vGJ3iTywmUft"
   },
   "outputs": [],
   "source": [
    "# First off - load all the silly python libraries we are going to need \n",
    "import pandas as pd\n",
    "import numpy as np\n",
    "import random\n",
    "from IPython.core.display import display, HTML\n",
    "\n",
    "\n",
    "from google.colab import auth\n",
    "from google.cloud import bigquery\n",
    "from google.colab import files\n",
    "import os"
   ]
  },
  {
   "cell_type": "code",
   "execution_count": 0,
   "metadata": {
    "colab": {},
    "colab_type": "code",
    "id": "hP5ZugAwnTDj"
   },
   "outputs": [],
   "source": [
    "auth.authenticate_user() # authenticating - connecting to google"
   ]
  },
  {
   "cell_type": "code",
   "execution_count": 0,
   "metadata": {
    "colab": {},
    "colab_type": "code",
    "id": "prpjl4yvni5v"
   },
   "outputs": [],
   "source": [
    "#This is how you connect to our project. You would change this in your own project.\n",
    "project_id='new-zealand-2018-datathon'\n",
    "os.environ[\"GOOGLE_CLOUD_PROJECT\"]=project_id\n",
    "# Read data from BigQuery into pandas dataframes.\n",
    "def run_query(query):\n",
    "  return pd.io.gbq.read_gbq(query, project_id=project_id, verbose=False, configuration={'query':{'useLegacySql': False}})"
   ]
  },
  {
   "cell_type": "code",
   "execution_count": 0,
   "metadata": {
    "colab": {},
    "colab_type": "code",
    "id": "EJWELLsCmUfx"
   },
   "outputs": [],
   "source": [
    "# Now load the data\n",
    "# Notice this ooks like our SQL query we practiced in the SQL section\n",
    "notes = run_query('''\n",
    "SELECT row_id, subject_id, hadm_id, TEXT\n",
    "FROM `physionet-data.mimiciii_notes.noteevents`\n",
    "WHERE CATEGORY = 'Discharge summary'\n",
    "''')"
   ]
  },
  {
   "cell_type": "code",
   "execution_count": 0,
   "metadata": {
    "colab": {},
    "colab_type": "code",
    "id": "9QnR8QrgmUf0"
   },
   "outputs": [],
   "source": [
    "# Here is the list of terms we are going to consider \"good\"\n",
    "terms = ['NASH', 'nonalcoholic steathohepatitis']"
   ]
  },
  {
   "cell_type": "code",
   "execution_count": 0,
   "metadata": {
    "colab": {
     "base_uri": "https://localhost:8080/",
     "height": 35
    },
    "colab_type": "code",
    "id": "2bSHP9vbmUf3",
    "outputId": "204b3c27-e3aa-481f-d396-bfadd1112206"
   },
   "outputs": [
    {
     "name": "stdout",
     "output_type": "stream",
     "text": [
      "Found 0 matching notes.\n"
     ]
    }
   ],
   "source": [
    "# Now scan through all of the notes. Do any of the terms appear? If so stash the note \n",
    "# id for future use\n",
    "\n",
    "matches = []\n",
    "\n",
    "for index, row in notes.iterrows():\n",
    "    if any(x in row['TEXT'] for x in terms):\n",
    "        matches.append(row['ROW_ID'])\n",
    "\n",
    "print(\"Found \" + str(len(matches)) + \" matching notes.\")"
   ]
  },
  {
   "cell_type": "code",
   "execution_count": 0,
   "metadata": {
    "colab": {},
    "colab_type": "code",
    "id": "eZbZfmEJmUgA"
   },
   "outputs": [],
   "source": [
    "# Display a random note that matches. You can rerun this cell to get another note.\n",
    "# The fancy stuff is just highlighting the match to make it easier to find.\n",
    "\n",
    "display_id = random.choice(matches)\n",
    "text = notes[notes['ROW_ID'] == display_id].iloc[0]['TEXT']\n",
    "for term in terms:\n",
    "    text = text.replace(term, \"<font color=\\\"red\\\">\" + term + \"</font>\")\n",
    "display(HTML(\"<pre>\" + text + \"</pre>\"))\n"
   ]
  }
 ],
 "metadata": {
  "colab": {
   "name": "MIT Tutorial - Part A - NASH.ipynb",
   "provenance": [],
   "version": "0.3.2"
  },
  "kernelspec": {
   "display_name": "Python 3",
   "language": "python",
   "name": "python3"
  },
  "language_info": {
   "codemirror_mode": {
    "name": "ipython",
    "version": 3
   },
   "file_extension": ".py",
   "mimetype": "text/x-python",
   "name": "python",
   "nbconvert_exporter": "python",
   "pygments_lexer": "ipython3",
   "version": "3.7.1"
  }
 },
 "nbformat": 4,
 "nbformat_minor": 1
}
