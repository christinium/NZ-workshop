{
 "cells": [
  {
   "cell_type": "markdown",
   "metadata": {
    "colab_type": "text",
    "id": "TsRhtG_v8x6v"
   },
   "source": [
    "# Part D - Identifying Obese\n"
   ]
  },
  {
   "cell_type": "code",
   "execution_count": 0,
   "metadata": {
    "colab": {},
    "colab_type": "code",
    "id": "WrIBRxjB8x62"
   },
   "outputs": [],
   "source": [
    "#Load libraries that will be needed\n",
    "import pandas as pd\n",
    "import numpy as np\n",
    "import os\n",
    "\n",
    "from google.colab import auth\n",
    "from google.cloud import bigquery\n",
    "from google.colab import files"
   ]
  },
  {
   "cell_type": "code",
   "execution_count": 0,
   "metadata": {
    "colab": {},
    "colab_type": "code",
    "id": "VjUx4sRP9MOm"
   },
   "outputs": [],
   "source": [
    "auth.authenticate_user() #This will allow you to authenticate access to BigQuery"
   ]
  },
  {
   "cell_type": "code",
   "execution_count": 0,
   "metadata": {
    "colab": {},
    "colab_type": "code",
    "id": "8q5UwFs89SSX"
   },
   "outputs": [],
   "source": [
    "#This is a method that executes a desired SQL query on the database\n",
    "project_id='new-zealand-2018-datathon'\n",
    "os.environ[\"GOOGLE_CLOUD_PROJECT\"]=project_id\n",
    "# Read data from BigQuery into pandas dataframes.\n",
    "def run_query(query):\n",
    "  return pd.io.gbq.read_gbq(query, project_id=project_id, verbose=False, configuration={'query':{'useLegacySql': False}})"
   ]
  },
  {
   "cell_type": "code",
   "execution_count": 0,
   "metadata": {
    "colab": {},
    "colab_type": "code",
    "id": "aKTDxcNM8x7B"
   },
   "outputs": [],
   "source": [
    "# Now load the data. In general you'd load the whole set of notes but that would take\n",
    "# several minutes so for this example we're just going to use a subset\n",
    "#notes = pd.read_csv('D.csv')\n",
    "notes = run_query('''\n",
    "    SELECT *\n",
    "    FROM `physionet-data.mimiciii_notes.noteevents`\n",
    "    WHERE CATEGORY = 'Discharge summary'\n",
    "    ''')\n"
   ]
  },
  {
   "cell_type": "code",
   "execution_count": 0,
   "metadata": {
    "colab": {},
    "colab_type": "code",
    "id": "jXFarBSbA7cU"
   },
   "outputs": [],
   "source": [
    "notes.head()"
   ]
  },
  {
   "cell_type": "code",
   "execution_count": 0,
   "metadata": {
    "colab": {},
    "colab_type": "code",
    "id": "KbrGptE78x7P"
   },
   "outputs": [],
   "source": [
    "# Load the gold standard\n",
    "#gold = pd.read_csv('obese-gold.csv')\n",
    "gold = run_query('''\n",
    "    SELECT *  \n",
    "    FROM `hst-953-2018.NLP_workshop.obese_gold` \n",
    "    ''')\n"
   ]
  },
  {
   "cell_type": "code",
   "execution_count": 0,
   "metadata": {
    "colab": {},
    "colab_type": "code",
    "id": "VDFgJnmM8x7g"
   },
   "outputs": [],
   "source": [
    "# Here is the list of terms we are going to consider \"good\"\n",
    "terms = ['obese']"
   ]
  },
  {
   "cell_type": "code",
   "execution_count": 0,
   "metadata": {
    "colab": {
     "base_uri": "https://localhost:8080/",
     "height": 34
    },
    "colab_type": "code",
    "id": "p80Fp2xO8x7n",
    "outputId": "d6a0cc13-7267-4f50-8353-7890e56ec17c"
   },
   "outputs": [
    {
     "name": "stdout",
     "output_type": "stream",
     "text": [
      "Found 4934 matching notes.\n"
     ]
    }
   ],
   "source": [
    "# Now scan through all of the notes. Do any of the terms appear? If so stash the note \n",
    "# id for future use\n",
    "\n",
    "matches = []\n",
    "\n",
    "for index, row in notes.iterrows():\n",
    "    if any(x in row['TEXT'] for x in terms):\n",
    "        matches.append(row['SUBJECT_ID'])\n",
    "\n",
    "print(\"Found \" + str(len(matches)) + \" matching notes.\")"
   ]
  },
  {
   "cell_type": "code",
   "execution_count": 0,
   "metadata": {
    "colab": {},
    "colab_type": "code",
    "id": "1qD-RMxd8x7x"
   },
   "outputs": [],
   "source": [
    "# For the patients in those notes, set \"obese\" true (1) in a the results\n",
    "myscores = gold.copy()\n",
    "myscores['obese_1'] = 0 # This sets them all to unknown\n",
    "\n",
    "for subject_id in matches:\n",
    "    myscores.loc[myscores[\"subject_id\"] == subject_id,'obese_1'] = 1\n"
   ]
  },
  {
   "cell_type": "code",
   "execution_count": 0,
   "metadata": {
    "colab": {},
    "colab_type": "code",
    "id": "jluSXN7A8x76"
   },
   "outputs": [],
   "source": [
    "# Compute your score\n",
    "\n",
    "skipped = 0\n",
    "truepositive = 0\n",
    "falsepositive = 0\n",
    "truenegative = 0\n",
    "falsenegative = 0\n",
    "\n",
    "for index, row in myscores.iterrows():\n",
    "    if row['obese_1'] == 0:\n",
    "        skipped = skipped + 1\n",
    "    else:\n",
    "        if row['obese_1'] == 1 and gold.loc[index]['obese_1'] == 1:\n",
    "            truepositive = truepositive + 1\n",
    "        elif row['obese_1'] == -1 and gold.loc[index]['obese_1'] == -1:\n",
    "            truenegative = truenegative + 1\n",
    "        elif row['obese_1'] == 1 and gold.loc[index]['obese_1'] == -1:\n",
    "            falsepositive = falsepositive + 1\n",
    "        elif row['obese_1'] == -1 and gold.loc[index]['obese_1'] == 1:\n",
    "            falsenegative = falsenegative + 1\n",
    "\n",
    "print (\"Skipped:\\t\" + str(skipped))\n",
    "print (\"True Pos:\\t\" + str(truepositive))\n",
    "print (\"True Neg:\\t\" + str(truenegative))\n",
    "print (\"False Pos:\\t\" + str(falsepositive))\n",
    "print (\"False Neg:\\t\" + str(falsenegative))     \n",
    "print (\"SCORE:\\t\\t\" + str(truepositive + truenegative - falsepositive - falsenegative))"
   ]
  }
 ],
 "metadata": {
  "colab": {
   "name": "MIT Tutorial - Part D - Obese.ipynb",
   "provenance": [],
   "version": "0.3.2"
  },
  "kernelspec": {
   "display_name": "Python 3",
   "language": "python",
   "name": "python3"
  },
  "language_info": {
   "codemirror_mode": {
    "name": "ipython",
    "version": 3
   },
   "file_extension": ".py",
   "mimetype": "text/x-python",
   "name": "python",
   "nbconvert_exporter": "python",
   "pygments_lexer": "ipython3",
   "version": "3.7.1"
  }
 },
 "nbformat": 4,
 "nbformat_minor": 1
}
