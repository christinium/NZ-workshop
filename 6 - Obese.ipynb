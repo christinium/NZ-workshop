{
  "nbformat": 4,
  "nbformat_minor": 0,
  "metadata": {
    "colab": {
      "name": "6 - Obese.ipynb",
      "version": "0.3.2",
      "provenance": [],
      "include_colab_link": true
    },
    "kernelspec": {
      "display_name": "Python 3",
      "language": "python",
      "name": "python3"
    }
  },
  "cells": [
    {
      "cell_type": "markdown",
      "metadata": {
        "id": "view-in-github",
        "colab_type": "text"
      },
      "source": [
        "<a href=\"https://colab.research.google.com/github/christinium/NZ-workshop/blob/master/6%20-%20Obese.ipynb\" target=\"_parent\"><img src=\"https://colab.research.google.com/assets/colab-badge.svg\" alt=\"Open In Colab\"/></a>"
      ]
    },
    {
      "metadata": {
        "colab_type": "text",
        "id": "TsRhtG_v8x6v"
      },
      "cell_type": "markdown",
      "source": [
        "# 6 - Obese\n"
      ]
    },
    {
      "metadata": {
        "colab_type": "code",
        "id": "WrIBRxjB8x62",
        "colab": {}
      },
      "cell_type": "code",
      "source": [
        "#Load libraries that will be needed\n",
        "import pandas as pd\n",
        "import numpy as np\n",
        "import os\n",
        "\n",
        "from google.colab import auth\n",
        "from google.cloud import bigquery\n",
        "from google.colab import files"
      ],
      "execution_count": 0,
      "outputs": []
    },
    {
      "metadata": {
        "colab_type": "code",
        "id": "VjUx4sRP9MOm",
        "colab": {}
      },
      "cell_type": "code",
      "source": [
        "auth.authenticate_user() #This will allow you to authenticate access to BigQuery"
      ],
      "execution_count": 0,
      "outputs": []
    },
    {
      "metadata": {
        "colab_type": "code",
        "id": "8q5UwFs89SSX",
        "colab": {}
      },
      "cell_type": "code",
      "source": [
        "#This is a method that executes a desired SQL query on the database\n",
        "project_id='new-zealand-2018-datathon'\n",
        "os.environ[\"GOOGLE_CLOUD_PROJECT\"]=project_id\n",
        "# Read data from BigQuery into pandas dataframes.\n",
        "def run_query(query):\n",
        "  return pd.io.gbq.read_gbq(query, project_id=project_id, verbose=False, configuration={'query':{'useLegacySql': False}})"
      ],
      "execution_count": 0,
      "outputs": []
    },
    {
      "metadata": {
        "colab_type": "code",
        "id": "aKTDxcNM8x7B",
        "colab": {}
      },
      "cell_type": "code",
      "source": [
        "# Now load the data. In general you'd load the whole set of notes but that would take\n",
        "# several minutes so for this example we're just going to use a subset\n",
        "#notes = pd.read_csv('D.csv')\n",
        "notes = run_query('''\n",
        "    SELECT *\n",
        "    FROM `nlp_demo.obesity_discharge`\n",
        "    ''')\n"
      ],
      "execution_count": 0,
      "outputs": []
    },
    {
      "metadata": {
        "colab_type": "code",
        "id": "jXFarBSbA7cU",
        "outputId": "b65c9aca-2143-4a84-a89a-6336a2089030",
        "colab": {
          "base_uri": "https://localhost:8080/",
          "height": 203
        }
      },
      "cell_type": "code",
      "source": [
        "notes.head()"
      ],
      "execution_count": 0,
      "outputs": [
        {
          "output_type": "execute_result",
          "data": {
            "text/html": [
              "<div>\n",
              "<style scoped>\n",
              "    .dataframe tbody tr th:only-of-type {\n",
              "        vertical-align: middle;\n",
              "    }\n",
              "\n",
              "    .dataframe tbody tr th {\n",
              "        vertical-align: top;\n",
              "    }\n",
              "\n",
              "    .dataframe thead th {\n",
              "        text-align: right;\n",
              "    }\n",
              "</style>\n",
              "<table border=\"1\" class=\"dataframe\">\n",
              "  <thead>\n",
              "    <tr style=\"text-align: right;\">\n",
              "      <th></th>\n",
              "      <th>row_id</th>\n",
              "      <th>subject_id</th>\n",
              "      <th>chartdate</th>\n",
              "      <th>category</th>\n",
              "      <th>description</th>\n",
              "      <th>text</th>\n",
              "      <th>max</th>\n",
              "    </tr>\n",
              "  </thead>\n",
              "  <tbody>\n",
              "    <tr>\n",
              "      <th>0</th>\n",
              "      <td>11397</td>\n",
              "      <td>169</td>\n",
              "      <td>2131-01-21</td>\n",
              "      <td>Discharge summary</td>\n",
              "      <td>Report</td>\n",
              "      <td>Admission Date:  [**2131-1-12**]              ...</td>\n",
              "      <td>2131-01-21</td>\n",
              "    </tr>\n",
              "    <tr>\n",
              "      <th>1</th>\n",
              "      <td>23645</td>\n",
              "      <td>252</td>\n",
              "      <td>2133-08-19</td>\n",
              "      <td>Discharge summary</td>\n",
              "      <td>Report</td>\n",
              "      <td>Admission Date:  [**2133-8-15**]              ...</td>\n",
              "      <td>2133-08-19</td>\n",
              "    </tr>\n",
              "    <tr>\n",
              "      <th>2</th>\n",
              "      <td>8205</td>\n",
              "      <td>402</td>\n",
              "      <td>2156-11-18</td>\n",
              "      <td>Discharge summary</td>\n",
              "      <td>Report</td>\n",
              "      <td>Admission Date:  [**2156-11-11**]             ...</td>\n",
              "      <td>2156-11-18</td>\n",
              "    </tr>\n",
              "    <tr>\n",
              "      <th>3</th>\n",
              "      <td>47329</td>\n",
              "      <td>433</td>\n",
              "      <td>2164-08-17</td>\n",
              "      <td>Discharge summary</td>\n",
              "      <td>Report</td>\n",
              "      <td>Admission Date:  [**2164-8-13**]              ...</td>\n",
              "      <td>2164-08-17</td>\n",
              "    </tr>\n",
              "    <tr>\n",
              "      <th>4</th>\n",
              "      <td>11128</td>\n",
              "      <td>653</td>\n",
              "      <td>2117-07-15</td>\n",
              "      <td>Discharge summary</td>\n",
              "      <td>Report</td>\n",
              "      <td>Admission Date:  [**2117-7-5**]              D...</td>\n",
              "      <td>2117-07-15</td>\n",
              "    </tr>\n",
              "  </tbody>\n",
              "</table>\n",
              "</div>"
            ],
            "text/plain": [
              "   row_id  subject_id  chartdate           category description  \\\n",
              "0   11397         169 2131-01-21  Discharge summary      Report   \n",
              "1   23645         252 2133-08-19  Discharge summary      Report   \n",
              "2    8205         402 2156-11-18  Discharge summary      Report   \n",
              "3   47329         433 2164-08-17  Discharge summary      Report   \n",
              "4   11128         653 2117-07-15  Discharge summary      Report   \n",
              "\n",
              "                                                text        max  \n",
              "0  Admission Date:  [**2131-1-12**]              ... 2131-01-21  \n",
              "1  Admission Date:  [**2133-8-15**]              ... 2133-08-19  \n",
              "2  Admission Date:  [**2156-11-11**]             ... 2156-11-18  \n",
              "3  Admission Date:  [**2164-8-13**]              ... 2164-08-17  \n",
              "4  Admission Date:  [**2117-7-5**]              D... 2117-07-15  "
            ]
          },
          "metadata": {
            "tags": []
          },
          "execution_count": 8
        }
      ]
    },
    {
      "metadata": {
        "colab_type": "code",
        "id": "KbrGptE78x7P",
        "colab": {}
      },
      "cell_type": "code",
      "source": [
        "# Load the gold standard\n",
        "#gold = pd.read_csv('obese-gold.csv')\n",
        "gold = run_query('''\n",
        "    SELECT *  \n",
        "    FROM `nlp_demo.obese_gold` \n",
        "    ''')\n"
      ],
      "execution_count": 0,
      "outputs": []
    },
    {
      "metadata": {
        "colab_type": "code",
        "id": "VDFgJnmM8x7g",
        "colab": {}
      },
      "cell_type": "code",
      "source": [
        "# Here is the list of terms we are going to consider \"good\"\n",
        "terms = ['obese']"
      ],
      "execution_count": 0,
      "outputs": []
    },
    {
      "metadata": {
        "colab_type": "code",
        "id": "p80Fp2xO8x7n",
        "outputId": "708c5944-89d0-4249-fc76-8a340e5bc936",
        "colab": {
          "base_uri": "https://localhost:8080/",
          "height": 34
        }
      },
      "cell_type": "code",
      "source": [
        "# Now scan through all of the notes. Do any of the terms appear? If so stash the note \n",
        "# id for future use\n",
        "\n",
        "matches = []\n",
        "\n",
        "for index, row in notes.iterrows():\n",
        "    if any(x in row['text'] for x in terms):\n",
        "        matches.append(row['subject_id'])\n",
        "\n",
        "print(\"Found \" + str(len(matches)) + \" matching notes.\")"
      ],
      "execution_count": 0,
      "outputs": [
        {
          "output_type": "stream",
          "text": [
            "Found 17 matching notes.\n"
          ],
          "name": "stdout"
        }
      ]
    },
    {
      "metadata": {
        "colab_type": "code",
        "id": "1qD-RMxd8x7x",
        "colab": {}
      },
      "cell_type": "code",
      "source": [
        "# For the patients in those notes, set \"obese\" true (1) in a the results\n",
        "myscores = gold.copy()\n",
        "myscores['obese_1'] = 0 # This sets them all to unknown\n",
        "\n",
        "for subject_id in matches:\n",
        "    myscores.loc[myscores[\"subject_id\"] == subject_id,'obese_1'] = 1\n"
      ],
      "execution_count": 0,
      "outputs": []
    },
    {
      "metadata": {
        "colab_type": "code",
        "id": "jluSXN7A8x76",
        "outputId": "c0c4f787-c693-485d-9c76-d99b0239cee7",
        "colab": {
          "base_uri": "https://localhost:8080/",
          "height": 122
        }
      },
      "cell_type": "code",
      "source": [
        "# Compute your score\n",
        "\n",
        "skipped = 0\n",
        "truepositive = 0\n",
        "falsepositive = 0\n",
        "truenegative = 0\n",
        "falsenegative = 0\n",
        "\n",
        "for index, row in myscores.iterrows():\n",
        "    if row['obese_1'] == 0:\n",
        "        skipped = skipped + 1\n",
        "    else:\n",
        "        if row['obese_1'] == 1 and gold.loc[index]['obese_1'] == 1:\n",
        "            truepositive = truepositive + 1\n",
        "        elif row['obese_1'] == -1 and gold.loc[index]['obese_1'] == -1:\n",
        "            truenegative = truenegative + 1\n",
        "        elif row['obese_1'] == 1 and gold.loc[index]['obese_1'] == -1:\n",
        "            falsepositive = falsepositive + 1\n",
        "        elif row['obese_1'] == -1 and gold.loc[index]['obese_1'] == 1:\n",
        "            falsenegative = falsenegative + 1\n",
        "\n",
        "print (\"Skipped:\\t\" + str(skipped))\n",
        "print (\"True Pos:\\t\" + str(truepositive))\n",
        "print (\"True Neg:\\t\" + str(truenegative))\n",
        "print (\"False Pos:\\t\" + str(falsepositive))\n",
        "print (\"False Neg:\\t\" + str(falsenegative))     \n",
        "print (\"SCORE:\\t\\t\" + str(truepositive + truenegative - falsepositive - falsenegative))"
      ],
      "execution_count": 0,
      "outputs": [
        {
          "output_type": "stream",
          "text": [
            "Skipped:\t83\n",
            "True Pos:\t16\n",
            "True Neg:\t0\n",
            "False Pos:\t1\n",
            "False Neg:\t0\n",
            "SCORE:\t\t15\n"
          ],
          "name": "stdout"
        }
      ]
    }
  ]
}