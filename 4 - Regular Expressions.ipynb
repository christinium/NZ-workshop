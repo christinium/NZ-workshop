{
 "cells": [
  {
   "cell_type": "markdown",
   "metadata": {
    "colab_type": "text",
    "id": "view-in-github"
   },
   "source": [
    "<a href=\"https://colab.research.google.com/github/christinium/AIMed_Workshop_2018/blob/master/MIT%20Tutorial%20-%20Part%20B%20-%20Regular%20Expressions.ipynb\" target=\"_parent\"><img src=\"https://colab.research.google.com/assets/colab-badge.svg\" alt=\"Open In Colab\"/></a>"
   ]
  },
  {
   "cell_type": "markdown",
   "metadata": {
    "colab_type": "text",
    "id": "-sfcA9tSUNeu"
   },
   "source": [
    "# Part B: Fun With Regular Expressions!\n",
    "\n",
    "In this section, we will learn what a regular expression is and use our new learn skills to get information from notes in MIMIC.\n",
    "\n",
    "**What is a Regular Expression:**\n",
    "* A regular expression (RegEx) is a sophisticated search command, it makes use of patterns\n",
    "* This can be implemented in many different languages. The specific syntax used in each language may vary, but the concepts are the same!\n",
    "\n",
    "Please refer to this for some basic regular expression definitions: \n",
    "http://web.mit.edu/hackl/www/lab/turkshop/slides/regex-cheatsheet.pdf\n"
   ]
  },
  {
   "cell_type": "markdown",
   "metadata": {
    "colab_type": "text",
    "id": "21rcOnS1Se_9"
   },
   "source": [
    "### B.0 Fancy Pattern Matching\n",
    "To visualize how regular expressions work, we will use the following website: \n",
    "https://regex101.com/ \n",
    "\n",
    "Please go to this website in another browser.\n",
    "<br><br><br>\n",
    "\n",
    "You will see a window like this.\n",
    "<img src=\"https://raw.githubusercontent.com/christinium/JapanRegEx/316caa5e0f10011b5483c299ec417ed78bf563b0/images/regex101_demo.png\" alt=\"Demo\" style=\"width:700px;\"/>\n",
    "\n",
    "<br><br>\n",
    "### Example 1:\n",
    "1) In the **Test String**  box, please paste the following:\n",
    "\n",
    "```\n",
    "Lisinopril 40 MG PO Daily\n",
    "LISINOPRIL 20 MG PO DAILY\n",
    "lisinoprl 10 mg PO Daily\n",
    "The patient is allergic to lisinopril.\n",
    "April showers bring may flowers.\n",
    "metoprolol XL 100 mg PO Daily\n",
    "```\n",
    "\n",
    "2) In the **Regular Expression** box, please try out each one of these patterns and observe the difference in items that are highlighted.\n",
    "\n",
    "Pattern | Meaning\n",
    "--------|--------\n",
    ". |\tA period catches all characters (each one is a different color)\n",
    "pril |\tthis only catches the phrase pril\n",
    ".\\*pril |\tthis catches 0 or more characters before pril\n",
    "[a-z] |\tthis catches all alphabetical characters\n",
    "[abcdefghijklmnopqrstuvwxyz] | this also catches all alphabetical characters\n",
    "[abcde]|this catches just a, b, c, d, or e\n",
    "[a-z]\\*pril |\tthis catches 0 or more characters, <br> lower case, but does not match spaces or numbers etc\n",
    "[aA-zZ]+pril| this catches words with one or more character prior to ending in pril\n",
    "[aA-zZ]{2,} | pril\tthis catches words with 2 or more characters prir to ending in pril\n",
    "lisinopril&#124;losartan |\tthis catches lisinopril or losartan\n",
    "\\d\t| this catches numerical digits\n",
    "\\d{2} |\tthis catches two numberical digits\n",
    "\n",
    "<br><br>\n"
   ]
  },
  {
   "cell_type": "markdown",
   "metadata": {
    "colab_type": "text",
    "id": "mubH_GJBVHdo"
   },
   "source": [
    "### Exercise 1: \n",
    "1) In the Test String box, please paste the following:\n",
    "```\n",
    "Metoprolol 10 mg PO daily\n",
    "Omeprazole 10 mg PO BID\n",
    "Lasix 10 mg PO BID\n",
    "Carvedilol 3.125 mg PO BID\n",
    "Amlodipine 10 mg PO Daily\n",
    "Labetalol 100 mg PO TID\n",
    "```\n",
    "\n",
    "2) What would you type in the **Regular Expression** box to find:<br>\n",
    "a) How do you write an expression to just pull out the betablockers, a type of medication that can decrease the heart rate and blood pressure (they end in lol)<br>\n",
    "b) You want to help someone figure out drugs that need to be dosed twice daily (or BID) for dosing purposes. How do you print out only lines that or twice a day (BID)?  \n",
    "c) How do you print lines that are more than once a day (including both BID and TID, which is three times daily)?\n",
    "\n",
    "_\\*\\*Answers on the Bottom_\n"
   ]
  },
  {
   "cell_type": "markdown",
   "metadata": {
    "colab_type": "text",
    "id": "kgGFVdVtZT7-"
   },
   "source": [
    "## B.1 Regular Expressions using MIMIC Clinical Notes!\n",
    "In this section, we will use a python (yay!) notebook to use use regular expressions on real clinical notes from MIMIC-III.  There are over 2 million (!) free text notes in here, so there is a ton of data to be used!<br><br>\n",
    "We will now go through each python code block.<br>\n",
    "To run a block select it and press **shift** + **enter**\n"
   ]
  },
  {
   "cell_type": "markdown",
   "metadata": {
    "colab_type": "text",
    "id": "CybKUGa8y-IE"
   },
   "source": [
    "**Import Libraries**:\n",
    "The cell below imports the necessaary libraries so that our python notebook can talk to the MIMIC database using Google's bigquery library and pull the notes from the database."
   ]
  },
  {
   "cell_type": "code",
   "execution_count": 0,
   "metadata": {
    "colab": {},
    "colab_type": "code",
    "id": "IR0nQQOxULq9"
   },
   "outputs": [],
   "source": [
    "import os\n",
    "import pandas as pd\n",
    "\n",
    "from google.colab import auth\n",
    "from google.cloud import bigquery\n",
    "from google.colab import files"
   ]
  },
  {
   "cell_type": "markdown",
   "metadata": {
    "colab_type": "text",
    "id": "LpazuyM0UkJY"
   },
   "source": [
    "**Authenticate:** The line of code below ensures you are an authenticated user accessing the MIMIC database. You will need to rerun this each time you open the notebook."
   ]
  },
  {
   "cell_type": "code",
   "execution_count": 0,
   "metadata": {
    "colab": {},
    "colab_type": "code",
    "id": "woVFB6X7J0cn"
   },
   "outputs": [],
   "source": [
    "auth.authenticate_user() #This will allow you to authenticate access to BigQuery"
   ]
  },
  {
   "cell_type": "markdown",
   "metadata": {
    "colab_type": "text",
    "id": "tp3E1gCKUxA2"
   },
   "source": [
    "**Query Function:** This is a method that executes a desired SQL query on the database.  If you want to run a query, you can use the function name below, which we named  *run_query()*"
   ]
  },
  {
   "cell_type": "code",
   "execution_count": 0,
   "metadata": {
    "colab": {},
    "colab_type": "code",
    "id": "fyWuYHqMIjxE"
   },
   "outputs": [],
   "source": [
    "project_id='new-zealand-2018-datathon'\n",
    "os.environ[\"GOOGLE_CLOUD_PROJECT\"]=project_id\n",
    "# Read data from BigQuery into pandas dataframes.\n",
    "def run_query(query):\n",
    "  return pd.io.gbq.read_gbq(query, project_id=project_id, verbose=False, configuration={'query':{'useLegacySql': False}})"
   ]
  },
  {
   "cell_type": "markdown",
   "metadata": {
    "colab_type": "text",
    "id": "NGDh5BToVSbp"
   },
   "source": [
    "**Actual Query:** This is the actual SQL query. Notes are contained in the NOTEEVENTS table. This table has ###  ?elements/columns (\\*fill in columns).  The column with the actual text of the report is  the TEXT column. Here, we extracting  the TEXT column from the first ten rows of the NOTEEVENTS table.  <br><br>\n",
    "\n",
    "(* Side note, if you want to run this in bigquery, you can also go to https://bigquery.cloud.google.com, click \"Try the new UI\" on the top right, and paste the text between the quotes into the \"Query Editor\" )"
   ]
  },
  {
   "cell_type": "code",
   "execution_count": 0,
   "metadata": {
    "colab": {},
    "colab_type": "code",
    "id": "R5y8n88sI2IQ"
   },
   "outputs": [],
   "source": [
    "first_ten_echo_reports = run_query('''\n",
    "SELECT row_id, subject_id, hadm_id, TEXT\n",
    "FROM `physionet-data.mimiciii_notes.noteevents`\n",
    "WHERE CATEGORY = 'Echo'\n",
    "LIMIT 10\n",
    "''')\n"
   ]
  },
  {
   "cell_type": "markdown",
   "metadata": {
    "colab_type": "text",
    "id": "EIck0_f3VvYY"
   },
   "source": [
    "Let us examine the result of our query."
   ]
  },
  {
   "cell_type": "code",
   "execution_count": 0,
   "metadata": {
    "colab": {},
    "colab_type": "code",
    "id": "0neinsdwI-FQ"
   },
   "outputs": [],
   "source": [
    "#This prints the first ten (or only 10 in this case) rows\n",
    "#If we wanted to print out all of the rows, we can also use:\n",
    "# print(first_ten_echo_reports)\n",
    "# (You can try it in another code block if you want)\n",
    "first_ten_echo_reports.head(10) "
   ]
  },
  {
   "cell_type": "markdown",
   "metadata": {
    "colab_type": "text",
    "id": "R_fUQZkwVzL4"
   },
   "source": [
    "Let us dig deeper and view the full content of the first report"
   ]
  },
  {
   "cell_type": "code",
   "execution_count": 0,
   "metadata": {
    "colab": {},
    "colab_type": "code",
    "id": "TqaXivbLKPa_"
   },
   "outputs": [],
   "source": [
    "report = first_ten_echo_reports[\"TEXT\"][0] \n",
    "print(report)\n",
    "#Arrays start numbering at 0.  If you want to print out the second row, you can type:\n",
    "#report = first_ten_echo_reports[\"TEXT\"][1] \n",
    "#Don't forget to rerun the block after you make changes!"
   ]
  },
  {
   "cell_type": "markdown",
   "metadata": {
    "colab_type": "text",
    "id": "HRd_CVNIWFk_"
   },
   "source": [
    "We are going to extract the heart rate from this note using regular expressions a powerful tool that allows us to do simple text analytics.\n",
    "Christina to add regex101 example here from her [notebook](https://github.com/christinium/JapanRegEx/blob/master/1.1%20-%20RegEx%20-%20Regular%20Expressions.ipynb)"
   ]
  },
  {
   "cell_type": "markdown",
   "metadata": {
    "colab_type": "text",
    "id": "ZfuBa5zmWxyq"
   },
   "source": [
    "To use regular expressions in python we import the regular library (typically this is done at the top of the file)."
   ]
  },
  {
   "cell_type": "code",
   "execution_count": 0,
   "metadata": {
    "colab": {},
    "colab_type": "code",
    "id": "BD4XxiTJKLjt"
   },
   "outputs": [],
   "source": [
    "import re"
   ]
  },
  {
   "cell_type": "markdown",
   "metadata": {
    "colab_type": "text",
    "id": "6JPvo38lW6br"
   },
   "source": [
    "Let us see how we can extract the line containing heart rate from the report.  \n",
    "*Remember, the variable \"report\" was established in the code block above.  If you want to look at a different report - you can change the row number and rerun that block and then this block.*"
   ]
  },
  {
   "cell_type": "code",
   "execution_count": 0,
   "metadata": {
    "colab": {},
    "colab_type": "code",
    "id": "b6_7iDmqLvoq"
   },
   "outputs": [],
   "source": [
    "regular_expression_query = r'HR.*'\n",
    "hit = re.search(regular_expression_query,report) \n",
    "if hit:\n",
    "  print(hit.group())\n",
    "else:\n",
    "  print('No hit for the regular expression')"
   ]
  },
  {
   "cell_type": "markdown",
   "metadata": {
    "colab_type": "text",
    "id": "97-MalZMXGpw"
   },
   "source": [
    "This is great. But we want to extract the value (85) from this line. Let us see how we can extract two digit numbers from the report"
   ]
  },
  {
   "cell_type": "code",
   "execution_count": 0,
   "metadata": {
    "colab": {},
    "colab_type": "code",
    "id": "zklIpC25RtMb"
   },
   "outputs": [],
   "source": [
    "regular_expression_query = r'\\d\\d'\n",
    "hit = re.search(regular_expression_query,report)\n",
    "if hit:\n",
    "  print(hit.group())\n",
    "else:\n",
    "  print('No hit for the regular expression')"
   ]
  },
  {
   "cell_type": "markdown",
   "metadata": {
    "colab_type": "text",
    "id": "NAwzEPaJXd4t"
   },
   "source": [
    "Regular expressions are **greedy**. This means they match the first occurrence in the input text. Therefore, we see that we get the height using our current regular expression. Let us modify the regular expression so that we get the first two digit number following the occurence of **HR** in the report."
   ]
  },
  {
   "cell_type": "code",
   "execution_count": 0,
   "metadata": {
    "colab": {},
    "colab_type": "code",
    "id": "sqSU0tvGSPdO"
   },
   "outputs": [],
   "source": [
    "regular_expression_query = r'(HR).*(\\d\\d)'\n",
    "hit = re.search(regular_expression_query,report)\n",
    "if hit:\n",
    "  print(hit.group(0))\n",
    "  print(hit.group(1))\n",
    "  print(hit.group(2))\n",
    "else:\n",
    "  print('No hit for the regular expression')"
   ]
  },
  {
   "cell_type": "markdown",
   "metadata": {
    "colab_type": "text",
    "id": "J5LUkH_MYL17"
   },
   "source": [
    "Great! This is exactly what we wanted. Now let us try to run our regular expression on each of the first ten reports and print the result."
   ]
  },
  {
   "cell_type": "code",
   "execution_count": 0,
   "metadata": {
    "colab": {},
    "colab_type": "code",
    "id": "AwfEpn5VTBX8"
   },
   "outputs": [],
   "source": [
    "#This runs a for loop - which means for the first 10 rows in our first_ten_echo_reports, we will run our regular expression.  \n",
    "#We wrote the number 10 in the loop because we know there are 10 rows.\n",
    "for i in range(10):\n",
    "  report = first_ten_echo_reports[\"TEXT\"][i]\n",
    "  regular_expression_query = r'(HR).*(\\d\\d)'\n",
    "  hit = re.search(regular_expression_query,report)\n",
    "  if hit:    \n",
    "    print('{} :: {}'.format(i,hit.group(2)))\n",
    "  else:\n",
    "    print('{} :: No hit for the regular expression')\n",
    "  "
   ]
  },
  {
   "cell_type": "markdown",
   "metadata": {
    "colab_type": "text",
    "id": "g8twKiJbYfNN"
   },
   "source": [
    "We do not get any hits for reports 2, and 6. Let us check report 2 why this is the case"
   ]
  },
  {
   "cell_type": "code",
   "execution_count": 0,
   "metadata": {
    "colab": {},
    "colab_type": "code",
    "id": "FEibHL4WTwma"
   },
   "outputs": [],
   "source": [
    "print(first_ten_echo_reports[\"TEXT\"][2])"
   ]
  },
  {
   "cell_type": "markdown",
   "metadata": {
    "colab_type": "text",
    "id": "TFgb6Zfwhz9I"
   },
   "source": [
    "**Exercise 2:** The pulmonary therapists make a note for patients who are on mechanical ventilation.  We will analyze these notes.<br>\n",
    "a) Save the first 10 respiratory notes where the \"description\" column is \"Respiratory Care Shift Note\" into a variable called \"first_ten_resp_reports\" and then print the results. <br>\n",
    "b) Save the first respiratory note as variable \"resp_report\".<br>\n",
    "c) Print out the line that contains right upper lobe (RUL) lung sounds. Then do the same for RLL (right lower lobe), LUL, LLL."
   ]
  },
  {
   "cell_type": "code",
   "execution_count": 0,
   "metadata": {
    "colab": {},
    "colab_type": "code",
    "id": "vDQWKND7hvV6"
   },
   "outputs": [],
   "source": [
    "#Use this box to get the first 10 respiratory reports\n",
    "#The category is 'Respiratory ' (note the space after respiratory)\n"
   ]
  },
  {
   "cell_type": "code",
   "execution_count": 0,
   "metadata": {
    "colab": {},
    "colab_type": "code",
    "id": "9dA-auxEkzst"
   },
   "outputs": [],
   "source": [
    "##Use this box to print out the first report"
   ]
  },
  {
   "cell_type": "code",
   "execution_count": 0,
   "metadata": {
    "colab": {},
    "colab_type": "code",
    "id": "B64FV3XirixA"
   },
   "outputs": [],
   "source": [
    "#Printing out lines with RUL\n",
    "\n",
    "  "
   ]
  },
  {
   "cell_type": "markdown",
   "metadata": {
    "colab_type": "text",
    "id": "hVBgGkl3jlkr"
   },
   "source": [
    "SELECT distinct category\n",
    "FROM `physionet-data.mimiciii_notes.noteevents`\n"
   ]
  },
  {
   "cell_type": "markdown",
   "metadata": {
    "colab_type": "text",
    "id": "gPheQMFgY-fH"
   },
   "source": [
    "###Answers to Exercises:\n",
    "\n"
   ]
  },
  {
   "cell_type": "markdown",
   "metadata": {
    "colab_type": "text",
    "id": "A37jvcd4YFAS"
   },
   "source": [
    "**Exercise 1: Can you modify the notebook to print the height of the patient mentioned in the first ten echo reports?**<br>\n",
    "a) How do you write an expression to just pull out the betablockers, a type of medication that can decrease the heart rate and blood pressure (they end in lol)<br>\n",
    "```\n",
    "[aA-zZ].*lol\n",
    "```\n",
    "b) You want to help someone figure out drugs that need to be dosed twice daily (or BID) for dosing purposes. How do you print out only lines that or twice a day (BID)?  \n",
    "```\n",
    ".*[BID]\n",
    "```\n",
    "c) How do you print lines that are more than once a day (including both BID and TID, which is three times daily)?\n",
    "```\n",
    ".*BID|.*TID\n",
    "```\n"
   ]
  },
  {
   "cell_type": "markdown",
   "metadata": {
    "colab_type": "text",
    "id": "VMjz2jDqtFGD"
   },
   "source": [
    "**Exercise 2:** The pulmonary therapists make a note for patients who are on mechanical ventilation.  We will analyze these notes.<br>\n",
    "a) Save the first 10 respiratory notes where the \"description\" column is \"Respiratory Care Shift Note\" into a variable called \"first_ten_resp_reports\" and then print the results. <br>\n",
    "```\n",
    "#Use this box to get the first 10 respiratory reports\n",
    "#The category is 'Respiratory ' (note the space after respiratory)\n",
    "first_ten_resp_reports = run_query('''\n",
    "SELECT row_id, subject_id, hadm_id, category, description, TEXT\n",
    "FROM `physionet-data.mimiciii_notes.noteevents`\n",
    "WHERE category = \"Respiratory \" AND description = 'Respiratory Care Shift Note'\n",
    "limit 10\n",
    "''')\n",
    "\n",
    "first_ten_resp_reports.head(10)\n",
    "```\n",
    "\n",
    "b) Save the first respiratory note as variable \"resp_report\".<br>\n",
    "```\n",
    "resp_report = first_ten_resp_reports[\"TEXT\"][0] \n",
    "print(resp_report)\n",
    "```\n",
    "c) Print out the line that contains right upper lobe (RUL) lung sounds. Then do the same for RLL (right lower lobe), LUL, LLL.\n",
    "```\n",
    "regular_expression_query = r'RUL.*'\n",
    "hit = re.search(regular_expression_query,resp_report) \n",
    "if hit:\n",
    "  print(hit.group())\n",
    "else:\n",
    "  print('No hit for the regular expression')\n",
    "  \n",
    "for i in range(len(first_ten_resp_reports)):\n",
    "  if hit:\n",
    "    print(hit.group())\n",
    "  else:\n",
    "    print('No hit for the regular expression')\n",
    "\n",
    "## Replase RUL with RLL, LUL, LLL to look at the other lobes\n",
    "```"
   ]
  }
 ],
 "metadata": {
  "colab": {
   "collapsed_sections": [],
   "include_colab_link": true,
   "name": "Copy of Regular expressions tutorial .ipynb",
   "provenance": [],
   "version": "0.3.2"
  },
  "kernelspec": {
   "display_name": "Python 3",
   "language": "python",
   "name": "python3"
  },
  "language_info": {
   "codemirror_mode": {
    "name": "ipython",
    "version": 3
   },
   "file_extension": ".py",
   "mimetype": "text/x-python",
   "name": "python",
   "nbconvert_exporter": "python",
   "pygments_lexer": "ipython3",
   "version": "3.7.1"
  }
 },
 "nbformat": 4,
 "nbformat_minor": 1
}
